{
 "cells": [
  {
   "cell_type": "code",
   "execution_count": 2,
   "metadata": {},
   "outputs": [],
   "source": [
    "import requests\n",
    "import pandas as pd\n",
    "from dotenv import dotenv_values\n",
    "import json\n",
    "import os\n",
    "import time\n",
    "import re"
   ]
  },
  {
   "cell_type": "code",
   "execution_count": 3,
   "metadata": {},
   "outputs": [],
   "source": [
    "base_url = \"https://www.thecocktaildb.com/api/json/v1/\"\n",
    "api_key = dotenv_values().get('cocktail_api_key')\n",
    "params = {\"c\":'Cocktail' }"
   ]
  },
  {
   "cell_type": "code",
   "execution_count": 4,
   "metadata": {},
   "outputs": [
    {
     "name": "stdout",
     "output_type": "stream",
     "text": [
      "['15346', '14029', '178318', '16108', '16943', '17005', '14560', '17222', '17223', '14107', '17224', '16134', '17225', '17226', '17227', '17228', '14272', '17229', '12560', '12562', '178321', '178325', '178353', '12564', '16311', '178319', '14584', '17074', '17066', '178337', '17180', '17267', '178320', '178317', '17254', '17268', '178336', '17242', '12572', '17251', '178331', '17825', '178311', '178310', '178356', '178329', '17174', '178369', '17830', '17250', '17196', '14133', '14608', '17177', '178334', '17181', '11005', '17182', '178346', '17246', '17212', '178309', '178344', '16485', '17213', '17248', '178352', '178328', '12758', '178340', '17255', '178342', '178314', '178366', '17230', '178365', '17252', '178316', '178345', '17239', '12706', '16987', '16178', '178359', '178335', '14366', '178360', '15224', '178358', '11008', '17256', '11720', '11728', '17188', '178370', '13936', '178343', '14842', '11000', '15841']\n",
      "100\n"
     ]
    }
   ],
   "source": [
    "api_cocktails = f\"{base_url}{api_key}/filter.php\" #returns a dictionary with drinks as key and a list of all drinks as value.\n",
    "response = requests.get(api_cocktails,params=params)\n",
    "if response.status_code == 200:\n",
    "    #Parse JSON response and get id's of all cocktails\n",
    "    data = response.json()\n",
    "    cocktails = data.get('drinks',[]) #Cocktails is a list of dictionaries, which have details of the drinks which are cocktails\n",
    "    if cocktails: #Check if cocktails has data\n",
    "        drink_list = [drink.get(\"idDrink\") for drink in cocktails] #gets only the drink names and puts in list. This list will be iterated next to get required details of drinks from different api endpoint.\n",
    "    print(drink_list)\n",
    "    print(len(drink_list))\n"
   ]
  },
  {
   "cell_type": "code",
   "execution_count": 5,
   "metadata": {},
   "outputs": [],
   "source": [
    "\n",
    "# Function to fetch drink details by name\n",
    "def fetch_drink_details(drink_id):\n",
    "    api_search = f\"{base_url}{api_key}/lookup.php?i={drink_id}\"\n",
    "    response = requests.get(api_search)\n",
    "    if response.status_code == 200:\n",
    "        # Parse JSON and return the drinks\n",
    "        return response.json().get(\"drinks\", [])\n",
    "    else:\n",
    "        print(f\"Failed to fetch details for {drink_id}. HTTP Status Code: {response.status_code}\")\n",
    "        return []"
   ]
  },
  {
   "cell_type": "code",
   "execution_count": null,
   "metadata": {},
   "outputs": [],
   "source": [
    "# I have chosen to go with batch processing approach. Explained in separate file.\n",
    "# Directory to store raw data\n",
    "RAW_DATA_DIR = \"raw_data\"\n",
    "os.makedirs(RAW_DATA_DIR, exist_ok=True)\n",
    "max_retries = 3 #This is incase of errors like 429.\n",
    "# Function to fetch raw data and save to file\n",
    "def fetch_and_store_raw_data(drinks):\n",
    "    for drink_id in drinks:\n",
    "        api_search = f\"{base_url}{api_key}/lookup.php?i={drink_id}\"\n",
    "        retries = 0\n",
    "        while retries <= max_retries:\n",
    "            response = requests.get(api_search)\n",
    "            if response.status_code == 200:\n",
    "                raw_data_path = os.path.join(RAW_DATA_DIR, f\"{drink_id}.json\")\n",
    "                with open(raw_data_path, \"w\") as f:\n",
    "                    json.dump(response.json(), f)\n",
    "                print(f\"Raw data for {drink_id} saved to {raw_data_path}\")\n",
    "                break #to avoid while loop running.\n",
    "            elif response.status_code == 429: #Check for too many requests on API.\n",
    "                # Handle Too Many Requests error\n",
    "                print(f\"Rate limit reached for {drink_id}. Retrying in 10 seconds...\")\n",
    "                time.sleep(10) #Most APIs include a Retry-After header for how long to wait before retrying. I have assumed 10 seconds.\n",
    "                retries += 1\n",
    "            else:\n",
    "                print(f\"Failed to fetch data for {drink_id}. HTTP Status Code: {response.status_code}\")\n",
    "                break"
   ]
  },
  {
   "cell_type": "code",
   "execution_count": null,
   "metadata": {},
   "outputs": [
    {
     "name": "stdout",
     "output_type": "stream",
     "text": [
      "Raw data for 15346 saved to raw_data\\15346.json\n",
      "Raw data for 14029 saved to raw_data\\14029.json\n",
      "Raw data for 178318 saved to raw_data\\178318.json\n",
      "Raw data for 16108 saved to raw_data\\16108.json\n",
      "Raw data for 16943 saved to raw_data\\16943.json\n",
      "Raw data for 17005 saved to raw_data\\17005.json\n",
      "Raw data for 14560 saved to raw_data\\14560.json\n",
      "Raw data for 17222 saved to raw_data\\17222.json\n",
      "Raw data for 17223 saved to raw_data\\17223.json\n",
      "Raw data for 14107 saved to raw_data\\14107.json\n",
      "Raw data for 17224 saved to raw_data\\17224.json\n",
      "Raw data for 16134 saved to raw_data\\16134.json\n",
      "Raw data for 17225 saved to raw_data\\17225.json\n",
      "Raw data for 17226 saved to raw_data\\17226.json\n",
      "Raw data for 17227 saved to raw_data\\17227.json\n",
      "Raw data for 17228 saved to raw_data\\17228.json\n",
      "Raw data for 14272 saved to raw_data\\14272.json\n",
      "Raw data for 17229 saved to raw_data\\17229.json\n",
      "Raw data for 12560 saved to raw_data\\12560.json\n",
      "Raw data for 12562 saved to raw_data\\12562.json\n",
      "Raw data for 178321 saved to raw_data\\178321.json\n",
      "Raw data for 178325 saved to raw_data\\178325.json\n",
      "Raw data for 178353 saved to raw_data\\178353.json\n",
      "Raw data for 12564 saved to raw_data\\12564.json\n",
      "Raw data for 16311 saved to raw_data\\16311.json\n",
      "Raw data for 178319 saved to raw_data\\178319.json\n",
      "Raw data for 14584 saved to raw_data\\14584.json\n",
      "Raw data for 17074 saved to raw_data\\17074.json\n",
      "Raw data for 17066 saved to raw_data\\17066.json\n",
      "Raw data for 178337 saved to raw_data\\178337.json\n",
      "Raw data for 17180 saved to raw_data\\17180.json\n",
      "Raw data for 17267 saved to raw_data\\17267.json\n",
      "Raw data for 178320 saved to raw_data\\178320.json\n",
      "Raw data for 178317 saved to raw_data\\178317.json\n",
      "Raw data for 17254 saved to raw_data\\17254.json\n",
      "Raw data for 17268 saved to raw_data\\17268.json\n",
      "Raw data for 178336 saved to raw_data\\178336.json\n",
      "Raw data for 17242 saved to raw_data\\17242.json\n",
      "Raw data for 12572 saved to raw_data\\12572.json\n",
      "Raw data for 17251 saved to raw_data\\17251.json\n",
      "Raw data for 178331 saved to raw_data\\178331.json\n",
      "Raw data for 17825 saved to raw_data\\17825.json\n",
      "Raw data for 178311 saved to raw_data\\178311.json\n",
      "Raw data for 178310 saved to raw_data\\178310.json\n",
      "Raw data for 178356 saved to raw_data\\178356.json\n",
      "Raw data for 178329 saved to raw_data\\178329.json\n",
      "Raw data for 17174 saved to raw_data\\17174.json\n",
      "Raw data for 178369 saved to raw_data\\178369.json\n",
      "Raw data for 17830 saved to raw_data\\17830.json\n",
      "Raw data for 17250 saved to raw_data\\17250.json\n",
      "Raw data for 17196 saved to raw_data\\17196.json\n",
      "Raw data for 14133 saved to raw_data\\14133.json\n",
      "Raw data for 14608 saved to raw_data\\14608.json\n",
      "Raw data for 17177 saved to raw_data\\17177.json\n",
      "Raw data for 178334 saved to raw_data\\178334.json\n",
      "Raw data for 17181 saved to raw_data\\17181.json\n",
      "Raw data for 11005 saved to raw_data\\11005.json\n",
      "Raw data for 17182 saved to raw_data\\17182.json\n",
      "Raw data for 178346 saved to raw_data\\178346.json\n",
      "Raw data for 17246 saved to raw_data\\17246.json\n",
      "Raw data for 17212 saved to raw_data\\17212.json\n",
      "Raw data for 178309 saved to raw_data\\178309.json\n",
      "Raw data for 178344 saved to raw_data\\178344.json\n",
      "Raw data for 16485 saved to raw_data\\16485.json\n",
      "Raw data for 17213 saved to raw_data\\17213.json\n",
      "Raw data for 17248 saved to raw_data\\17248.json\n",
      "Raw data for 178352 saved to raw_data\\178352.json\n",
      "Raw data for 178328 saved to raw_data\\178328.json\n",
      "Raw data for 12758 saved to raw_data\\12758.json\n",
      "Rate limit reached for 178340. Retrying in 2 seconds...\n",
      "Raw data for 178340 saved to raw_data\\178340.json\n",
      "Raw data for 17255 saved to raw_data\\17255.json\n",
      "Raw data for 178342 saved to raw_data\\178342.json\n",
      "Raw data for 178314 saved to raw_data\\178314.json\n",
      "Raw data for 178366 saved to raw_data\\178366.json\n",
      "Raw data for 17230 saved to raw_data\\17230.json\n",
      "Raw data for 178365 saved to raw_data\\178365.json\n",
      "Raw data for 17252 saved to raw_data\\17252.json\n",
      "Raw data for 178316 saved to raw_data\\178316.json\n",
      "Raw data for 178345 saved to raw_data\\178345.json\n",
      "Raw data for 17239 saved to raw_data\\17239.json\n",
      "Raw data for 12706 saved to raw_data\\12706.json\n",
      "Raw data for 16987 saved to raw_data\\16987.json\n",
      "Raw data for 16178 saved to raw_data\\16178.json\n",
      "Raw data for 178359 saved to raw_data\\178359.json\n",
      "Raw data for 178335 saved to raw_data\\178335.json\n",
      "Raw data for 14366 saved to raw_data\\14366.json\n",
      "Raw data for 178360 saved to raw_data\\178360.json\n",
      "Raw data for 15224 saved to raw_data\\15224.json\n",
      "Raw data for 178358 saved to raw_data\\178358.json\n",
      "Raw data for 11008 saved to raw_data\\11008.json\n",
      "Raw data for 17256 saved to raw_data\\17256.json\n",
      "Raw data for 11720 saved to raw_data\\11720.json\n",
      "Raw data for 11728 saved to raw_data\\11728.json\n",
      "Raw data for 17188 saved to raw_data\\17188.json\n",
      "Raw data for 178370 saved to raw_data\\178370.json\n",
      "Raw data for 13936 saved to raw_data\\13936.json\n",
      "Raw data for 178343 saved to raw_data\\178343.json\n",
      "Raw data for 14842 saved to raw_data\\14842.json\n",
      "Raw data for 11000 saved to raw_data\\11000.json\n",
      "Raw data for 15841 saved to raw_data\\15841.json\n"
     ]
    }
   ],
   "source": [
    "fetch_and_store_raw_data(drink_list)\n"
   ]
  },
  {
   "cell_type": "code",
   "execution_count": null,
   "metadata": {},
   "outputs": [
    {
     "name": "stdout",
     "output_type": "stream",
     "text": [
      "All cocktails raw data extracted.\n"
     ]
    }
   ],
   "source": [
    "if len(os.listdir(RAW_DATA_DIR))==len(drink_list):\n",
    "    print(\"All cocktails raw data extracted.\")\n",
    "else:\n",
    "    raise Exception(\"Missing cocktails. Please, review code.\")"
   ]
  }
 ],
 "metadata": {
  "kernelspec": {
   "display_name": "Python 3",
   "language": "python",
   "name": "python3"
  },
  "language_info": {
   "codemirror_mode": {
    "name": "ipython",
    "version": 3
   },
   "file_extension": ".py",
   "mimetype": "text/x-python",
   "name": "python",
   "nbconvert_exporter": "python",
   "pygments_lexer": "ipython3",
   "version": "3.11.3"
  }
 },
 "nbformat": 4,
 "nbformat_minor": 2
}
